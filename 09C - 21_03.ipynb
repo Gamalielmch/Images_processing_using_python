{
 "cells": [
  {
   "cell_type": "markdown",
   "metadata": {},
   "source": [
    "### K-means"
   ]
  },
  {
   "cell_type": "code",
   "execution_count": null,
   "metadata": {},
   "outputs": [],
   "source": [
    "### librerias\n",
    "import numpy as np\n",
    "import matplotlib.pyplot as plt\n",
    "import cv2"
   ]
  },
  {
   "cell_type": "code",
   "execution_count": null,
   "metadata": {},
   "outputs": [],
   "source": [
    "## Cargar imagen y cambiarla a escalas de gris\n",
    "imagen = cv2.imread('images/bote.jpg')\n",
    "imagen = cv2.cvtColor(imagen, cv2.COLOR_BGR2GRAY)\n",
    "\n",
    "dimensiones = imagen.shape\n",
    "## clusters\n",
    "k = 3\n",
    "\n",
    "medias = np.random.choice(np.unique(imagen), k, replace=False)\n",
    "print(medias)\n",
    "## convertir la imagen a un vector\n",
    "imagen = imagen.ravel().astype(float)\n",
    "\n",
    "distancias = np.zeros((imagen.shape[0],k))\n",
    "imagen = imagen.reshape(len(imagen),1)\n",
    "imR = np.tile(imagen, k)\n",
    "\n",
    "for h in range(100):\n",
    "    distancias = np.sqrt((imR-medias)**2)\n",
    "\n",
    "    minimos = np.argmin(distancias, axis=1)\n",
    "\n",
    "    for j in range(k):\n",
    "            medias[j] = np.mean(imagen[minimos==j])\n",
    "\n",
    "imagen_seg = minimos.reshape(dimensiones)\n",
    "# img_segmentada = imagen\n",
    "# for j in range(k):\n",
    "#         img_segmentada[minimos==j] = medias[j]\n",
    "\n",
    "# img_segmentada = img_segmentada.reshape(dimensiones).astype(np.uint8)\n",
    "# imagen = imagen.reshape(dimensiones).astype(np.uint8)\n",
    "\n",
    "# fig3 = plt.figure(figsize= (12,6))\n",
    "# a = fig3.add_subplot(1,2,1)\n",
    "# plt.imshow(imagen, cmap='gray', vmin=0, vmax=255)\n",
    "# plt.axis('off')\n",
    "\n",
    "# b = fig3.add_subplot(1,2,2)\n",
    "# plt.imshow(img_segmentada)\n",
    "# plt.axis('off')\n",
    "\n",
    "plt.imshow(imagen_seg, cmap='jet')\n",
    "plt.axis('off')"
   ]
  },
  {
   "cell_type": "markdown",
   "metadata": {},
   "source": [
    "### GMM"
   ]
  },
  {
   "cell_type": "code",
   "execution_count": 1,
   "metadata": {},
   "outputs": [],
   "source": [
    "### librerias\n",
    "import numpy as np\n",
    "import matplotlib.pyplot as plt\n",
    "import cv2"
   ]
  },
  {
   "cell_type": "code",
   "execution_count": 3,
   "metadata": {},
   "outputs": [],
   "source": [
    "NPDF = lambda x, mean, sd: (1/(np.sqrt (2*np.pi)*sd)) * np.exp(-0.5*((x-mean)/sd)**2)\n",
    "\n",
    "## Cargar imagen y cambiarla a escalas de gris\n",
    "imagen = cv2.imread('im25.jpg')\n",
    "imagen = cv2.cvtColor(imagen, cv2.COLOR_BGR2GRAY)\n",
    "\n",
    "# hist = cv2.calcHist([imagen], [0], None, [256], [0,256])\n",
    "# plt.plot(hist)\n",
    "# plt.show()\n",
    "dimensiones = imagen.shape\n",
    "imagen = imagen.ravel().astype(float)\n",
    "\n",
    "## clusters\n",
    "k = 5\n",
    "medias = np.random.choice(np.unique(imagen), k, replace=False)\n",
    "\n",
    "# std = np.ones((k,))*np.std(imagen.ravel())\n",
    "std = np.ones((k,))*5\n",
    "phi = np.ones((k,))/k\n",
    "N = imagen.shape[0]\n",
    "gamma = np.zeros((N,k))\n",
    "x=np.linspace(0,255,256)\n",
    "\n",
    "for i in range(50):\n",
    "    ## calcular gamma\n",
    "    for j in range(k):\n",
    "        gamma[:,j]= phi[j]*NPDF(imagen, medias[j], std[j])\n",
    "\n",
    "    suma = np.sum(gamma, axis=1)\n",
    "    im = np.repeat(suma,k).reshape(N,k)\n",
    "    gamma = gamma/im\n",
    "\n",
    "    # print(std)\n",
    "    ## Recalcular los promedios, desviaciones y pesos\n",
    "    for j in range(k):\n",
    "        phi[j] = np.sum(gamma[:,j])\n",
    "        medias[j] = np.dot(gamma[:,j],imagen)/phi[j]\n",
    "        std[j] = np.sqrt(np.sum(gamma[:,j]*(imagen-medias[j])**2)/phi[j])\n",
    "        phi[j] = phi[j]/N\n",
    "\n",
    "\n",
    "    # print(std)\n",
    "    # fig=plt.figure\n",
    "    # plt.hist(imagen,256,[0,256],density=True)\n",
    "    # for j in range(k):\n",
    "    #     plt.plot(x, phi[j]*NPDF(x, medias[j], std[j]))\n",
    "    plt.show()"
   ]
  },
  {
   "cell_type": "code",
   "execution_count": 5,
   "metadata": {},
   "outputs": [
    {
     "data": {
      "text/plain": [
       "(-0.5, 399.5, 299.5, -0.5)"
      ]
     },
     "execution_count": 5,
     "metadata": {},
     "output_type": "execute_result"
    },
    {
     "data": {
      "image/png": "[encoded data removed]",
      "text/plain": [
       "<Figure size 432x288 with 1 Axes>"
      ]
     },
     "metadata": {
      "needs_background": "light"
     },
     "output_type": "display_data"
    }
   ],
   "source": [
    "  \n",
    "for j in range(k):\n",
    "    temp=phi[j]*NPDF(imagen , medias[j] , std[j])\n",
    "    temp=np.reshape(temp,dimensiones)\n",
    "    temp = cv2.blur(temp,(5, 5))\n",
    "    gamma[:,j]=temp.ravel().astype(float) \n",
    "\n",
    "assig=np.argmax(gamma,axis=1)\n",
    "Iseg=imagen*1\n",
    "for j in range(k):\n",
    "    Iseg[assig==j]=medias[j]\n",
    "    \n",
    "Iseg=Iseg.reshape(dimensiones)\n",
    "plt.imshow(Iseg, cmap='jet')\n",
    "plt.axis('off')"
   ]
  },
  {
   "cell_type": "code",
   "execution_count": 5,
   "metadata": {},
   "outputs": [
    {
     "ename": "error",
     "evalue": "OpenCV(4.5.3) C:\\Users\\runneradmin\\AppData\\Local\\Temp\\pip-req-build-q3d_8t8e\\opencv\\modules\\imgproc\\src\\color.cpp:182: error: (-215:Assertion failed) !_src.empty() in function 'cv::cvtColor'\n",
     "output_type": "error",
     "traceback": [
      "\u001b[1;31m---------------------------------------------------------------------------\u001b[0m",
      "\u001b[1;31merror\u001b[0m                                     Traceback (most recent call last)",
      "\u001b[1;32m~\\AppData\\Local\\Temp/ipykernel_4340/617258708.py\u001b[0m in \u001b[0;36m<module>\u001b[1;34m\u001b[0m\n\u001b[0;32m      5\u001b[0m \u001b[1;31m## Cargar imagen y cambiarla a escalas de gris\u001b[0m\u001b[1;33m\u001b[0m\u001b[1;33m\u001b[0m\u001b[1;33m\u001b[0m\u001b[0m\n\u001b[0;32m      6\u001b[0m \u001b[0mimagen\u001b[0m \u001b[1;33m=\u001b[0m \u001b[0mcv2\u001b[0m\u001b[1;33m.\u001b[0m\u001b[0mimread\u001b[0m\u001b[1;33m(\u001b[0m\u001b[1;34m'images/bote.jpg'\u001b[0m\u001b[1;33m)\u001b[0m\u001b[1;33m\u001b[0m\u001b[1;33m\u001b[0m\u001b[0m\n\u001b[1;32m----> 7\u001b[1;33m \u001b[0mimagen\u001b[0m \u001b[1;33m=\u001b[0m \u001b[0mcv2\u001b[0m\u001b[1;33m.\u001b[0m\u001b[0mcvtColor\u001b[0m\u001b[1;33m(\u001b[0m\u001b[0mimagen\u001b[0m\u001b[1;33m,\u001b[0m \u001b[0mcv2\u001b[0m\u001b[1;33m.\u001b[0m\u001b[0mCOLOR_BGR2GRAY\u001b[0m\u001b[1;33m)\u001b[0m\u001b[1;33m\u001b[0m\u001b[1;33m\u001b[0m\u001b[0m\n\u001b[0m\u001b[0;32m      8\u001b[0m \u001b[1;33m\u001b[0m\u001b[0m\n\u001b[0;32m      9\u001b[0m \u001b[1;31m# hist = cv2.calcHist([imagen], [0], None, [256], [0,256])\u001b[0m\u001b[1;33m\u001b[0m\u001b[1;33m\u001b[0m\u001b[1;33m\u001b[0m\u001b[0m\n",
      "\u001b[1;31merror\u001b[0m: OpenCV(4.5.3) C:\\Users\\runneradmin\\AppData\\Local\\Temp\\pip-req-build-q3d_8t8e\\opencv\\modules\\imgproc\\src\\color.cpp:182: error: (-215:Assertion failed) !_src.empty() in function 'cv::cvtColor'\n"
     ]
    }
   ],
   "source": [
    "#### Tarea ver si se puede evitar el for del phi, m, std\n",
    "\n",
    "NPDF = lambda x, mean, sd: (1/(np.sqrt (2*np.pi)*sd)) * np.exp(-0.5*((x-mean)/sd)**2)\n",
    "\n",
    "## Cargar imagen y cambiarla a escalas de gris\n",
    "imagen = cv2.imread('images/bote.jpg')\n",
    "imagen = cv2.cvtColor(imagen, cv2.COLOR_BGR2GRAY)\n",
    "\n",
    "# hist = cv2.calcHist([imagen], [0], None, [256], [0,256])\n",
    "# plt.plot(hist)\n",
    "# plt.show()\n",
    "dimensiones = imagen.shape\n",
    "imagen = imagen.ravel().astype(float)\n",
    "\n",
    "## clusters\n",
    "k = 5\n",
    "medias = np.random.choice(np.unique(imagen), k, replace=False)\n",
    "# std = np.ones((k,))*np.std(imagen.ravel())\n",
    "std = np.ones((k,))*5\n",
    "temp_2 = np.ones((k,))*5\n",
    "N = imagen.shape[0]\n",
    "gamma = np.zeros((N,k))\n",
    "x=np.linspace(0,255,256)\n",
    "\n",
    "print(phi.shape)\n",
    "## graficar el histograma y las curvas de Gauss\n",
    "fig=plt.figure\n",
    "plt.hist(imagen,256,[0,256],density=True)\n",
    "for j in range(k):\n",
    "    plt.plot(x, phi[j]*NPDF(x, medias[j], std[j]))\n",
    "\n",
    "## calcular gamma\n",
    "for j in range(k):\n",
    "    gamma[:,j] = phi[j]*NPDF(imagen, medias[j], std[j])\n",
    "suma = np.sum(gamma, axis=1)\n",
    "im = np.repeat(suma,k).reshape(N,k)\n",
    "gamma = gamma/im\n",
    "\n",
    "im_n = imagen.reshape(len(imagen),1)\n",
    "distancias = np.tile(im_n, k)\n",
    "# print(std)\n",
    "## Recalcular los promedios, desviaciones y pesos\n",
    "for j in range(k):\n",
    "    phi[j] = np.sum(gamma[:,j])\n",
    "    medias[j] = np.dot(gamma[:,j],imagen)/phi[j]\n",
    "    std[j] = np.sqrt(np.sum(gamma[:,j]*(imagen-medias[j])**2)/phi[j])\n",
    "    phi[j] = phi[j]/N\n",
    "\n",
    "plt.show()\n",
    "#gamma.sum(axis=0)\n",
    "#np.divide((gamma*distancias).sum(axis=0),temp)\n",
    "#np.sqrt(np.divide((gamma*(distancias-medias)**2).sum(axis=0),temp))\n",
    "print(phi)\n",
    "print(gamma.sum(axis=0)/N)\n"
   ]
  },
  {
   "cell_type": "code",
   "execution_count": null,
   "metadata": {},
   "outputs": [],
   "source": [
    "for k in range(k):\n",
    "    gamma[:,k]=NPDF(imagen , medias[k] , std[k])\n",
    "assig=np.argmax(gamma,axis=1)\n",
    "Iseg=imagen*1\n",
    "for k in range(k):\n",
    "    Iseg[assig==k]=medias[k]\n",
    "    \n",
    "Iseg=Iseg.reshape(dimensiones)\n",
    "plt.imshow(Iseg, cmap='jet')\n",
    "plt.axis('off')"
   ]
  },
  {
   "cell_type": "code",
   "execution_count": null,
   "metadata": {},
   "outputs": [],
   "source": []
  }
 ],
 "metadata": {
  "kernelspec": {
   "display_name": "Python 3 (ipykernel)",
   "language": "python",
   "name": "python3"
  },
  "language_info": {
   "codemirror_mode": {
    "name": "ipython",
    "version": 3
   },
   "file_extension": ".py",
   "mimetype": "text/x-python",
   "name": "python",
   "nbconvert_exporter": "python",
   "pygments_lexer": "ipython3",
   "version": "3.8.8"
  }
 },
 "nbformat": 4,
 "nbformat_minor": 4
}
