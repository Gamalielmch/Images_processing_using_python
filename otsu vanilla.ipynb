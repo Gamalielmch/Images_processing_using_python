{
 "cells": [
  {
   "cell_type": "code",
   "execution_count": 21,
   "id": "9cd9a70d-88cc-4fd1-8de8-f92a39ab4527",
   "metadata": {},
   "outputs": [
    {
     "name": "stdout",
     "output_type": "stream",
     "text": [
      "244\n"
     ]
    },
    {
     "name": "stderr",
     "output_type": "stream",
     "text": [
      "C:\\Users\\coyul\\AppData\\Local\\Temp/ipykernel_5896/3748443215.py:19: RuntimeWarning: invalid value encountered in double_scalars\n",
      "  mu0=  mk / w0\n"
     ]
    },
    {
     "data": {
      "text/plain": [
       "[<matplotlib.lines.Line2D at 0x271e9284070>]"
      ]
     },
     "execution_count": 21,
     "metadata": {},
     "output_type": "execute_result"
    },
    {
     "data": {
      "image/png": "[encoded data removed]",
      "text/plain": [
       "<Figure size 432x288 with 1 Axes>"
      ]
     },
     "metadata": {
      "needs_background": "light"
     },
     "output_type": "display_data"
    }
   ],
   "source": [
    "import cv2\n",
    "import numpy as np\n",
    "import matplotlib.pyplot as plt \n",
    "I = cv2.imread('im1.jpg',0)\n",
    "N=I.shape[0]*I.shape[1]\n",
    "histI=cv2.calcHist([I],[0],None,[256],[0,255])\n",
    "histI=histI.astype(float)\n",
    "histI=histI[:,0]/N\n",
    "\n",
    "intensidad=np.arange(0,256,1, dtype=float)\n",
    "mt=np.mean(I.ravel())\n",
    "thr_v=-np.inf\n",
    "thr=0\n",
    "var_b=[]\n",
    "for k in range(1,255):\n",
    "    w0 = np.sum(histI[:k])\n",
    "    w1=1-w0\n",
    "    mk=np.sum(intensidad[0:k]*histI[0:k])\n",
    "    mu0=  mk / w0\n",
    "    mu0=np.nan_to_num(mu0)\n",
    "    mu1= (mt-mk) /w1\n",
    "    mu1=np.nan_to_num(mu1)\n",
    "    thrt=w0*w1*(mu1-mu0)**2\n",
    "    var_b.append(thrt)\n",
    "    if thrt > thr:\n",
    "        thr = thrt\n",
    "        thr=k\n",
    "        \n",
    "print(thr)\n",
    "plt.plot(var_b)"
   ]
  },
  {
   "cell_type": "code",
   "execution_count": 41,
   "id": "06392eb4-b85e-4ea4-9a5a-3b30fac340eb",
   "metadata": {},
   "outputs": [],
   "source": [
    "def otsu(gray):\n",
    "    pixel_number = gray.shape[0] * gray.shape[1]\n",
    "    mean_weight = 1.0/pixel_number\n",
    "    his, bins = np.histogram(gray, np.arange(0,257))\n",
    "    final_thresh = -1\n",
    "    final_value = -1\n",
    "    intensity_arr = np.arange(256)\n",
    "    for t in bins[1:-1]: # This goes from 1 to 254 uint8 range (Pretty sure wont be those values)\n",
    "        pcb = np.sum(his[:t])\n",
    "        pcf = np.sum(his[t:])\n",
    "        Wb = pcb * mean_weight\n",
    "        Wf = pcf * mean_weight\n",
    "\n",
    "        mub = np.sum(intensity_arr[:t]*his[:t]) / float(pcb)\n",
    "        muf = np.sum(intensity_arr[t:]*his[t:]) / float(pcf)\n",
    "        #print mub, muf\n",
    "        value = Wb * Wf * (mub - muf) ** 2\n",
    "\n",
    "        if value > final_value:\n",
    "            final_thresh = t\n",
    "            final_value = value\n",
    "    final_img = gray.copy()\n",
    "    print(final_thresh)\n",
    "    final_img[gray > final_thresh] = 255\n",
    "    final_img[gray < final_thresh] = 0\n",
    "    return final_img"
   ]
  },
  {
   "cell_type": "code",
   "execution_count": 43,
   "id": "07d3dcf0-f85b-4e29-9a04-0c59e331b12a",
   "metadata": {},
   "outputs": [
    {
     "name": "stdout",
     "output_type": "stream",
     "text": [
      "207\n"
     ]
    },
    {
     "name": "stderr",
     "output_type": "stream",
     "text": [
      "C:\\Users\\coyul\\AppData\\Local\\Temp/ipykernel_17596/753735613.py:14: RuntimeWarning: invalid value encountered in true_divide\n",
      "  mub = np.sum(intensity_arr[:t]*his[:t]) / float(pcb)\n"
     ]
    }
   ],
   "source": [
    "I = cv2.imread('im1.jpg',0)\n",
    "I=I.astype(float)\n",
    "sal=otsu(I)"
   ]
  },
  {
   "cell_type": "code",
   "execution_count": null,
   "id": "1ef8f94f-ec04-49de-a8b1-248eaf1129b8",
   "metadata": {},
   "outputs": [],
   "source": []
  }
 ],
 "metadata": {
  "kernelspec": {
   "display_name": "Python 3 (ipykernel)",
   "language": "python",
   "name": "python3"
  },
  "language_info": {
   "codemirror_mode": {
    "name": "ipython",
    "version": 3
   },
   "file_extension": ".py",
   "mimetype": "text/x-python",
   "name": "python",
   "nbconvert_exporter": "python",
   "pygments_lexer": "ipython3",
   "version": "3.8.8"
  }
 },
 "nbformat": 4,
 "nbformat_minor": 5
}
