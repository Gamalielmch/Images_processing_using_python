{
 "cells": [
  {
   "cell_type": "code",
   "execution_count": 1,
   "id": "d5c34dbc-af0e-45f8-9328-0b4657dfd6e9",
   "metadata": {},
   "outputs": [],
   "source": [
    "import numpy as np\n",
    "import matplotlib.pyplot as plt\n",
    "import random\n",
    "import cv2"
   ]
  },
  {
   "cell_type": "code",
   "execution_count": 2,
   "id": "b6ea3246-f6e1-4262-a343-fc80daf024a5",
   "metadata": {},
   "outputs": [],
   "source": [
    "#Creating a Function.\n",
    "def Npdf(x , mean , sd):\n",
    "    prob_density = (1/(np.sqrt (2*np.pi)*sd)) * np.exp(-0.5*((x-mean)/sd)**2)\n",
    "    return prob_density"
   ]
  },
  {
   "cell_type": "code",
   "execution_count": 8,
   "id": "97a2f09b-5613-47b7-9f20-eb1a9eb442de",
   "metadata": {},
   "outputs": [
    {
     "data": {
      "text/plain": [
       "<matplotlib.image.AxesImage at 0x2310d8c6b20>"
      ]
     },
     "execution_count": 8,
     "metadata": {},
     "output_type": "execute_result"
    },
    {
     "data": {
      "image/png": "[encoded data removed]",
      "text/plain": [
       "<Figure size 432x288 with 1 Axes>"
      ]
     },
     "metadata": {
      "needs_background": "light"
     },
     "output_type": "display_data"
    }
   ],
   "source": [
    "I = cv2.imread('im25.jpg')\n",
    "I = cv2.cvtColor(I, cv2.COLOR_BGR2GRAY)\n",
    "I=I.astype(float)\n",
    "nf,nc=I.shape\n",
    "N=nf*nc\n",
    "I=I.ravel()\n",
    "K=5\n",
    "sz=9\n",
    "m=I[random.choices(np.arange(N),k=K)]\n",
    "m=np.array([50,100,130,160,200])\n",
    "std=(np.ones(K,)*3)\n",
    "gamma=np.zeros((N,K))\n",
    "temp=np.zeros((nf,nc))\n",
    "plt.hist(I.ravel(),256,[0,256],density=True);\n",
    "for ite in range(20):\n",
    "    for k in range(K):\n",
    "        gamma[:,k]=Npdf(I , m[k] , std[k])\n",
    "        temp=cv2.GaussianBlur(gamma[:,k].reshape(nf,nc),(sz,sz),cv2.BORDER_DEFAULT)\n",
    "        gamma[:,k]=temp.ravel()\n",
    "    assig=np.argmax(gamma+1e-50,axis=1)\n",
    "    for k in range(K):\n",
    "        m[k]=np.sum(I[assig==k])/np.sum(assig==k)\n",
    "        std[k]=np.sqrt(np.sum((I[assig==k]-m[k])**2)/np.sum(assig==k))\n",
    "\n",
    "\n",
    "for k in range(K):\n",
    "    gamma[:,k]=Npdf(I , m[k] , std[k])\n",
    "    temp=cv2.GaussianBlur(gamma[:,k].reshape(nf,nc),(sz,sz),cv2.BORDER_DEFAULT)\n",
    "    gamma[:,k]=temp.ravel()\n",
    "assig=np.argmax(gamma,axis=1)\n",
    "Iseg=I*1\n",
    "for k in range(K):\n",
    "    Iseg[assig==k]=m[k]\n",
    "Iseg=Iseg.reshape(nf,nc)\n",
    "plt.imshow(Iseg, cmap='gray')"
   ]
  },
  {
   "cell_type": "code",
   "execution_count": null,
   "id": "3981d683-46fe-4294-a73a-b6bd18ee7e50",
   "metadata": {},
   "outputs": [],
   "source": []
  }
 ],
 "metadata": {
  "kernelspec": {
   "display_name": "Python 3 (ipykernel)",
   "language": "python",
   "name": "python3"
  },
  "language_info": {
   "codemirror_mode": {
    "name": "ipython",
    "version": 3
   },
   "file_extension": ".py",
   "mimetype": "text/x-python",
   "name": "python",
   "nbconvert_exporter": "python",
   "pygments_lexer": "ipython3",
   "version": "3.8.8"
  }
 },
 "nbformat": 4,
 "nbformat_minor": 5
}
