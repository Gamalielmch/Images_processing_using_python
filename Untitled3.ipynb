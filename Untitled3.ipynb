{
 "cells": [
  {
   "cell_type": "code",
   "execution_count": 12,
   "id": "b6b8f083-be6a-47e5-9b79-0e20d368d313",
   "metadata": {},
   "outputs": [],
   "source": [
    "# -*- coding: utf-8 -*-\n",
    "######################################################\n",
    "#María de la luz Escobar Hernández\n",
    "#Doctorado en Ciencia de la Ingenería\n",
    "# UAZ-2021\n",
    "\n",
    "#Este programa convierte una una imagen de 8 bits a 16 bits de formato dicom\n",
    "######################################################\n",
    "import os\n",
    "import cv2 as cv\n",
    "import matplotlib.pyplot as plt\n",
    "from numpy.core.arrayprint import format_float_scientific\n",
    "import pydicom as dicom\n",
    "import numpy as np\n",
    "# import mamoSegmentation as mio\n",
    "import pandas as pd\n",
    "import os\n",
    "from PIL import  ImageFilter"
   ]
  },
  {
   "cell_type": "code",
   "execution_count": 20,
   "id": "80ab6410-22d3-4523-aa4e-b36f4578f4bc",
   "metadata": {},
   "outputs": [
    {
     "name": "stdout",
     "output_type": "stream",
     "text": [
      "[[0.00257874 0.         0.         ... 0.         0.         0.00257874]\n",
      " [0.         0.         0.         ... 0.         0.         0.        ]\n",
      " [0.         0.         0.         ... 0.         0.         0.        ]\n",
      " ...\n",
      " [0.         0.         0.         ... 0.         0.         0.        ]\n",
      " [0.         0.         0.         ... 0.         0.         0.        ]\n",
      " [0.00257874 0.         0.         ... 0.         0.         0.00257874]]\n",
      "[[169   0   0 ...   0   0 169]\n",
      " [  0   0   0 ...   0   0   0]\n",
      " [  0   0   0 ...   0   0   0]\n",
      " ...\n",
      " [  0   0   0 ...   0   0   0]\n",
      " [  0   0   0 ...   0   0   0]\n",
      " [169   0   0 ...   0   0 169]]\n"
     ]
    }
   ],
   "source": [
    "\n",
    "ds=dicom.dcmread('FRFCM.dcm') #(direccion+'1-1.dcm')\n",
    "Imagen1=ds.pixel_array\n",
    "Imagen1=Imagen1.astype(float)\n",
    "Imagen1=Imagen1/2**16\n",
    "print(Imagen1)\n",
    "\n",
    "\n",
    "\n",
    "Imagen1=Imagen1*2**16\n",
    "Imagen1=Imagen1.astype(np.uint16)\n",
    "print(Imagen1)"
   ]
  },
  {
   "cell_type": "code",
   "execution_count": null,
   "id": "a56e2a94-5a31-43b5-94bb-d45cc2af1f83",
   "metadata": {},
   "outputs": [],
   "source": []
  }
 ],
 "metadata": {
  "kernelspec": {
   "display_name": "Python 3 (ipykernel)",
   "language": "python",
   "name": "python3"
  },
  "language_info": {
   "codemirror_mode": {
    "name": "ipython",
    "version": 3
   },
   "file_extension": ".py",
   "mimetype": "text/x-python",
   "name": "python",
   "nbconvert_exporter": "python",
   "pygments_lexer": "ipython3",
   "version": "3.8.8"
  }
 },
 "nbformat": 4,
 "nbformat_minor": 5
}
