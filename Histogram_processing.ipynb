{
 "cells": [
  {
   "cell_type": "markdown",
   "id": "4f7810b1-cab9-40de-8a33-f59c3131e19b",
   "metadata": {},
   "source": [
    "## Procesamiento del histograma\n",
    "\n",
    "Se $r_k$ para $k=0,1,2,\\ldots,L-1$, las intensidades de un imagen de L-niveles. El histograma no normalizado esta dado por \n",
    " \n",
    "\n",
    "\\begin{equation*}\n",
    "h(r_k)=n_k \\text{  para  } k=0,1,2,\\ldots,L-1\n",
    "\\end{equation*}\n",
    "\n",
    "donde $n_k$ es  el numero de pixeles en la imagen con intensidad $r_k$. De manera similar tenemos el histograma normalizado esta dado por \n",
    "\\begin{equation*}\n",
    "p(r_k)=\\frac{h(r_k)}{MN}= \\frac{n_k}{MN}\n",
    "\\end{equation*}\n",
    "donde $M$ y $N$ son el número de renglones y columnas de la imagen "
   ]
  },
  {
   "cell_type": "code",
   "execution_count": null,
   "id": "1e255fa6-fedd-4618-876d-cb603ee722d6",
   "metadata": {},
   "outputs": [],
   "source": []
  }
 ],
 "metadata": {
  "kernelspec": {
   "display_name": "Python 3",
   "language": "python",
   "name": "python3"
  },
  "language_info": {
   "codemirror_mode": {
    "name": "ipython",
    "version": 3
   },
   "file_extension": ".py",
   "mimetype": "text/x-python",
   "name": "python",
   "nbconvert_exporter": "python",
   "pygments_lexer": "ipython3",
   "version": "3.8.8"
  }
 },
 "nbformat": 4,
 "nbformat_minor": 5
}
