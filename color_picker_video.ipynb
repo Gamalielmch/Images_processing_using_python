{
 "cells": [
  {
   "cell_type": "code",
   "execution_count": null,
   "id": "3f9ce87b-75b5-4d0d-aebb-99c6358a8f22",
   "metadata": {},
   "outputs": [],
   "source": [
    "colors = []\n",
    "\n",
    "def on_mouse_click (event, x, y, flags, frame):\n",
    "    if event == cv2.EVENT_LBUTTONUP:\n",
    "        colors.append(frame[y,x].tolist())\n",
    "\n",
    "def main():\n",
    "    capture = cv2.VideoCapture(0)\n",
    "\n",
    "    while True:\n",
    "        _, frame = capture.read()\n",
    "        hsv = cv2.cvtColor(frame, cv2.COLOR_BGR2HLS_FULL)\n",
    "        if colors:\n",
    "            cv2.putText(hsv, str(colors[-1]), (10, 50), cv2.FONT_HERSHEY_PLAIN, 2, (0, 0, 0), 2)\n",
    "        cv2.imshow('frame', hsv)\n",
    "        cv2.setMouseCallback('frame', on_mouse_click, hsv)\n",
    "\n",
    "        if cv2.waitKey(1) & 0xFF == ord('q'):\n",
    "            break\n",
    "\n",
    "    capture.release()\n",
    "    cv2.destroyAllWindows()\n",
    "\n",
    "    # avgb = int(sum(c[0] for c in colors) / len(colors))\n",
    "    # avgg = int(sum(c[0] for c in colors) / len(colors))\n",
    "    # avgr = int(sum(c[0] for c in colors) / len(colors))\n",
    "    # print avgb, avgg, avgr\n",
    "\n",
    "    minb = min(c[0] for c in colors)\n",
    "    ming = min(c[1] for c in colors)\n",
    "    minr = min(c[2] for c in colors)\n",
    "    maxb = max(c[0] for c in colors)\n",
    "    maxg = max(c[1] for c in colors)\n",
    "    maxr = max(c[2] for c in colors)\n",
    "    print (minr, ming, minb, maxr, maxg, max)\n",
    "\n",
    "    lb = [minb,ming,minr]\n",
    "    ub = [maxb,maxg,maxr]\n",
    "    print (lb, ub)\n",
    "\n",
    "if __name__ == \"__main__\":\n",
    "    main()"
   ]
  }
 ],
 "metadata": {
  "kernelspec": {
   "display_name": "Python 3",
   "language": "python",
   "name": "python3"
  },
  "language_info": {
   "codemirror_mode": {
    "name": "ipython",
    "version": 3
   },
   "file_extension": ".py",
   "mimetype": "text/x-python",
   "name": "python",
   "nbconvert_exporter": "python",
   "pygments_lexer": "ipython3",
   "version": "3.8.8"
  }
 },
 "nbformat": 4,
 "nbformat_minor": 5
}
