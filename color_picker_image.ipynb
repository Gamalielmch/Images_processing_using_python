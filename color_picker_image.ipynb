{
 "cells": [
  {
   "cell_type": "code",
   "execution_count": 2,
   "id": "4308f56b-c50b-45d2-9862-1569222ca82f",
   "metadata": {},
   "outputs": [],
   "source": [
    "import cv2"
   ]
  },
  {
   "cell_type": "code",
   "execution_count": 4,
   "id": "b244b9f7-28ae-49dc-b77f-5d5171b626bc",
   "metadata": {},
   "outputs": [
    {
     "name": "stdout",
     "output_type": "stream",
     "text": [
      "3\n",
      "[170, 244, 79]\n"
     ]
    }
   ],
   "source": [
    "I = cv2.imread('im1.jpg')\n",
    "I = cv2.cvtColor(I, cv2.COLOR_BGR2GRAY)\n",
    "colors = []\n",
    "def on_mouse_click (event, x, y, flags, frame):\n",
    "    if event == cv2.EVENT_LBUTTONUP:\n",
    "        colors.append(frame[y,x].tolist())\n",
    "while True:\n",
    "    cv2.imshow('frame', I)\n",
    "    cv2.setMouseCallback('frame', on_mouse_click, I)\n",
    "    if cv2.waitKey(1) & 0xFF == ord('q'):\n",
    "        break\n",
    "cv2.destroyAllWindows()\n",
    "print(len(colors))\n",
    "print (colors)\n"
   ]
  },
  {
   "cell_type": "code",
   "execution_count": 13,
   "id": "ea3dce17-c9ce-487a-af35-4b7465f52ef8",
   "metadata": {},
   "outputs": [
    {
     "name": "stdout",
     "output_type": "stream",
     "text": [
      "[[165.00181159]\n",
      " [243.98863636]\n",
      " [180.64214047]] [[4.60446345]\n",
      " [2.07023084]\n",
      " [2.74849246]]\n"
     ]
    }
   ],
   "source": [
    "import numpy as np\n",
    "I = cv2.imread('im1.jpg')\n",
    "I = cv2.cvtColor(I, cv2.COLOR_BGR2GRAY)\n",
    "K=3\n",
    "medias = np.zeros((K,1))\n",
    "std = np.zeros((K,1))\n",
    "for i in range(K):\n",
    "    cv2.namedWindow('ROI') \n",
    "# define area by mouse\n",
    "    r=cv2.selectROI('ROI', I,False,False)\n",
    "    medias[i] = np.mean(I[int(r[1]):int(r[1]+r[3]), int(r[0]):int(r[0]+r[2])])\n",
    "    std[i]= np.std(I[int(r[1]):int(r[1]+r[3]), int(r[0]):int(r[0]+r[2])])\n",
    "    cv2.destroyWindow('ROI')"
   ]
  },
  {
   "cell_type": "code",
   "execution_count": null,
   "id": "469486da-e9f7-4d9c-a53b-0e8dd8db91b8",
   "metadata": {},
   "outputs": [],
   "source": []
  }
 ],
 "metadata": {
  "kernelspec": {
   "display_name": "Python 3 (ipykernel)",
   "language": "python",
   "name": "python3"
  },
  "language_info": {
   "codemirror_mode": {
    "name": "ipython",
    "version": 3
   },
   "file_extension": ".py",
   "mimetype": "text/x-python",
   "name": "python",
   "nbconvert_exporter": "python",
   "pygments_lexer": "ipython3",
   "version": "3.8.8"
  }
 },
 "nbformat": 4,
 "nbformat_minor": 5
}
