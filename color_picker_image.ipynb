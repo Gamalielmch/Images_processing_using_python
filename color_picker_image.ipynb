{
 "cells": [
  {
   "cell_type": "code",
   "execution_count": 2,
   "id": "4308f56b-c50b-45d2-9862-1569222ca82f",
   "metadata": {},
   "outputs": [],
   "source": [
    "import cv2"
   ]
  },
  {
   "cell_type": "code",
   "execution_count": 8,
   "id": "b244b9f7-28ae-49dc-b77f-5d5171b626bc",
   "metadata": {},
   "outputs": [
    {
     "name": "stdout",
     "output_type": "stream",
     "text": [
      "5\n",
      "[[193, 155, 180], [128, 90, 165], [236, 236, 236], [233, 222, 230], [200, 172, 194]]\n"
     ]
    }
   ],
   "source": [
    "I = cv2.imread('im1.jpg')\n",
    "I = cv2.cvtColor(I, cv2.COLOR_BGR2RGB)\n",
    "colors = []\n",
    "def on_mouse_click (event, x, y, flags, frame):\n",
    "    if event == cv2.EVENT_LBUTTONUP:\n",
    "        colors.append(frame[y,x].tolist())\n",
    "while True:\n",
    "    cv2.imshow('frame', I)\n",
    "    cv2.setMouseCallback('frame', on_mouse_click, I)\n",
    "    if cv2.waitKey(1) & 0xFF == ord('q'):\n",
    "        break\n",
    "cv2.destroyAllWindows()\n",
    "print(len(colors))\n",
    "print (colors)\n"
   ]
  }
 ],
 "metadata": {
  "kernelspec": {
   "display_name": "Python 3",
   "language": "python",
   "name": "python3"
  },
  "language_info": {
   "codemirror_mode": {
    "name": "ipython",
    "version": 3
   },
   "file_extension": ".py",
   "mimetype": "text/x-python",
   "name": "python",
   "nbconvert_exporter": "python",
   "pygments_lexer": "ipython3",
   "version": "3.8.8"
  }
 },
 "nbformat": 4,
 "nbformat_minor": 5
}
