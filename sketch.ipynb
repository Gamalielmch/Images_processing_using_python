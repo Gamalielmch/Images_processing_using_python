{
 "cells": [
  {
   "cell_type": "code",
   "execution_count": 2,
   "id": "b09071ad-0217-4dfa-878b-98ce2483c049",
   "metadata": {},
   "outputs": [],
   "source": [
    "import cv2\n",
    "import numpy as np\n",
    "img=cv2.imread(\"imcolor3.jpg\")\n",
    "RGB_img = cv2.cvtColor(img, cv2.COLOR_BGR2RGB)\n",
    "grey_img=cv2.cvtColor(img, cv2.COLOR_BGR2GRAY)\n",
    "invert_img=255-grey_img\n",
    "blur_img=cv2.GaussianBlur(invert_img, (35,35),0)\n",
    "invblur_img=255-blur_img\n",
    "sketch_img=cv2.divide(grey_img,invblur_img, scale=256.0)\n",
    "cv2.imwrite('sketch.png', sketch_img)\n",
    "cv2.imshow('sketch image',sketch_img)\n",
    "cv2.waitKey(0)\n",
    "cv2.destroyAllWindows()"
   ]
  },
  {
   "cell_type": "code",
   "execution_count": null,
   "id": "efeaa1ec-f427-4596-a574-acb76675bb18",
   "metadata": {},
   "outputs": [],
   "source": []
  }
 ],
 "metadata": {
  "kernelspec": {
   "display_name": "Python 3 (ipykernel)",
   "language": "python",
   "name": "python3"
  },
  "language_info": {
   "codemirror_mode": {
    "name": "ipython",
    "version": 3
   },
   "file_extension": ".py",
   "mimetype": "text/x-python",
   "name": "python",
   "nbconvert_exporter": "python",
   "pygments_lexer": "ipython3",
   "version": "3.10.9"
  }
 },
 "nbformat": 4,
 "nbformat_minor": 5
}
