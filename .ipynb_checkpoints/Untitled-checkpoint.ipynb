{
 "cells": [
  {
   "cell_type": "code",
   "execution_count": 1,
   "id": "10b7f1f4-23e0-4fa8-934e-5c1c09c59ccf",
   "metadata": {},
   "outputs": [],
   "source": [
    "import numpy as np\n",
    "import matplotlib.pyplot as plt\n",
    "from skimage.filters import rank,gaussian\n",
    "from skimage.restoration import denoise_nl_means,estimate_sigma\n",
    "import cv2"
   ]
  },
  {
   "cell_type": "code",
   "execution_count": null,
   "id": "f8028b13-0dde-43a2-86e1-4bf793756dbf",
   "metadata": {},
   "outputs": [],
   "source": [
    "I = cv2.imread('im11.jpg')\n",
    "I = cv2.cvtColor(I, cv2.COLOR_BGR2GRAY)"
   ]
  },
  {
   "cell_type": "code",
   "execution_count": null,
   "id": "f99a8653-0586-49ae-ae43-e51bf3ddb20b",
   "metadata": {},
   "outputs": [],
   "source": [
    "# Gaussian filter\n",
    "If = cv2.blur(I,(5, 5))"
   ]
  },
  {
   "cell_type": "code",
   "execution_count": null,
   "id": "a1b9ae3e-922c-4f07-9ce6-89d3d231d38e",
   "metadata": {},
   "outputs": [],
   "source": [
    "# Non-local mean filter\n",
    "I=I.astype(float)\n",
    "sigma_est=np.mean(estimate_sigma(I))\n",
    "In=denoise_nl_means(I,h=1.15*sigma_est,fast_mode=False,patch_size=5,patch_distance=3)\n",
    "I=I.astype(np.uint8)"
   ]
  },
  {
   "cell_type": "code",
   "execution_count": null,
   "id": "2acc86dd-a472-40d8-895a-0d85cc701721",
   "metadata": {},
   "outputs": [],
   "source": []
  }
 ],
 "metadata": {
  "kernelspec": {
   "display_name": "Python 3",
   "language": "python",
   "name": "python3"
  },
  "language_info": {
   "codemirror_mode": {
    "name": "ipython",
    "version": 3
   },
   "file_extension": ".py",
   "mimetype": "text/x-python",
   "name": "python",
   "nbconvert_exporter": "python",
   "pygments_lexer": "ipython3",
   "version": "3.8.8"
  }
 },
 "nbformat": 4,
 "nbformat_minor": 5
}
