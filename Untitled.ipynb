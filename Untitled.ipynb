{
 "cells": [
  {
   "cell_type": "code",
   "execution_count": 6,
   "id": "23384521-f5c9-41d9-a107-fab88c1c4f39",
   "metadata": {},
   "outputs": [
    {
     "name": "stdout",
     "output_type": "stream",
     "text": [
      "3.203593525828237e-16\n"
     ]
    },
    {
     "data": {
      "text/plain": [
       "[<matplotlib.lines.Line2D at 0x2df6d4d4ee0>]"
      ]
     },
     "execution_count": 6,
     "metadata": {},
     "output_type": "execute_result"
    }
   ],
   "source": [
    "import numpy as np\n",
    "import matplotlib.pyplot as plt\n",
    "from mpl_toolkits.mplot3d import Axes3D\n",
    "\n",
    "normal_pdf = lambda x,m,std: (1/(np.sqrt(2*np.pi)*std))*np.exp(-0.5*(x-m)**2 /(std**2) )\n",
    "x=np.linspace(-10,10,100)\n",
    "m=0\n",
    "std=1\n",
    "fx=normal_pdf(x,m,std)\n",
    "print(np.sum(x*fx))\n",
    "plt.plot(x,fx)"
   ]
  },
  {
   "cell_type": "code",
   "execution_count": 1,
   "id": "d850c598-716f-489b-adb3-091242595307",
   "metadata": {},
   "outputs": [],
   "source": [
    "import numpy as np\n",
    "import matplotlib.pyplot as plt\n",
    "from mpl_toolkits.mplot3d import Axes3D\n",
    "\n",
    "def normal_bivariable(x,m,cov):\n",
    "    term1=(2 * np.pi * np.sqrt(np.linalg.det(cov)))\n",
    "    term2= np.exp(-0.5 * np.sum(np.dot(x - m, np.linalg.inv(cov)) * (x - m), axis = 2)) \n",
    "    return term2/term1"
   ]
  },
  {
   "cell_type": "code",
   "execution_count": 12,
   "id": "70da8122-5b15-4e22-878f-f8c25c62d844",
   "metadata": {},
   "outputs": [
    {
     "name": "stdout",
     "output_type": "stream",
     "text": [
      "[[1 0]\n",
      " [0 1]]\n",
      "[[0.05854983 0.09653235 0.05854983]\n",
      " [0.09653235 0.15915494 0.09653235]\n",
      " [0.05854983 0.09653235 0.05854983]]\n"
     ]
    },
    {
     "name": "stderr",
     "output_type": "stream",
     "text": [
      "C:\\Users\\coyul\\AppData\\Local\\Temp/ipykernel_21260/3890767643.py:11: MatplotlibDeprecationWarning: Calling gca() with keyword arguments was deprecated in Matplotlib 3.4. Starting two minor releases later, gca() will take no keyword arguments. The gca() function should only be used to get the current axes, or if no axes exist, create new axes with default keyword arguments. To create a new axes with non-default arguments, use plt.axes() or plt.subplot().\n",
      "  ax = fig.gca(projection='3d')\n"
     ]
    }
   ],
   "source": [
    "%matplotlib qt\n",
    "x1=np.arange(-1,2,1)\n",
    "x2=np.arange(-1,2,1)\n",
    "X,Y=np.meshgrid(x1,x2)\n",
    "XY =np.dstack((X,Y))\n",
    "M=np.array([0,0])\n",
    "cov=np.array([[1,0],[0,1]])\n",
    "print(cov)\n",
    "fx=normal_bivariable(XY,M,cov)\n",
    "fig = plt.figure()\n",
    "ax = fig.gca(projection='3d')\n",
    "surf = ax.plot_surface(Y, X, fx)\n",
    "#plt.contour(X, Y, fx)\n",
    "print(fx)"
   ]
  },
  {
   "cell_type": "code",
   "execution_count": 6,
   "id": "2e38cb31-8f38-4320-89f9-b8ee8301ef0f",
   "metadata": {},
   "outputs": [
    {
     "name": "stdout",
     "output_type": "stream",
     "text": [
      "(300, 300) (300, 300)\n"
     ]
    }
   ],
   "source": [
    "import cv2\n",
    "import numpy as np\n",
    "I = cv2.imread('im11.jpg',0)\n",
    "If= cv2.GaussianBlur(I,(25,25),1,cv2.BORDER_REPLICATE)\n",
    "cv2.namedWindow(\"win\", cv2.WINDOW_NORMAL)  \n",
    "cv2.imshow(\"win\",np.c_[I,If])\n",
    "cv2.waitKey(0) \n",
    "cv2.destroyAllWindows()"
   ]
  },
  {
   "cell_type": "code",
   "execution_count": 18,
   "id": "0bf2f645-f163-4b52-9a85-756dda968cc6",
   "metadata": {},
   "outputs": [],
   "source": [
    "import cv2\n",
    "import numpy as np\n",
    "from skimage.restoration import denoise_nl_means,estimate_sigma\n",
    "I = cv2.imread('im24.jpg',0)\n",
    "I=I.astype(float)\n",
    "sigma_est=np.mean(estimate_sigma(I))\n",
    "If=denoise_nl_means(I,h=1.15*sigma_est,fast_mode=False,patch_size=5,patch_distance=16)\n",
    "If2= cv2.GaussianBlur(I,(5,5),1,cv2.BORDER_REPLICATE)\n",
    "I=I.astype(np.uint8)\n",
    "If=If.astype(np.uint8)\n",
    "If2=If2.astype(np.uint8)\n",
    "cv2.namedWindow(\"win\", cv2.WINDOW_NORMAL)  \n",
    "cv2.imshow(\"win\",np.c_[I,If,If2])\n",
    "cv2.waitKey(0) \n",
    "cv2.destroyAllWindows()"
   ]
  },
  {
   "cell_type": "code",
   "execution_count": 26,
   "id": "83a761bf-6e0d-4a11-8544-542dbec1bd47",
   "metadata": {},
   "outputs": [],
   "source": [
    "import cv2\n",
    "I = cv2.imread('im11.jpg')\n",
    "If = cv2.fastNlMeansDenoisingColored(I,None,8,10,7,21)\n",
    "\n",
    "cv2.namedWindow(\"win\", cv2.WINDOW_NORMAL)  \n",
    "cv2.imshow(\"win\",If)\n",
    "cv2.waitKey(0) \n",
    "cv2.destroyAllWindows()"
   ]
  },
  {
   "cell_type": "code",
   "execution_count": 8,
   "id": "578f20b7-3a2f-4695-b041-166b6b81b841",
   "metadata": {},
   "outputs": [
    {
     "name": "stdout",
     "output_type": "stream",
     "text": [
      "1225.1657452254349 55.06506506506507\n"
     ]
    }
   ],
   "source": [
    "import numpy as np\n",
    "U = lambda T : (204165.5/(330 - 2*T)) + (10400/(T - 20))\n",
    "T=np.linspace(40,90,1000)\n",
    "fx=U(T)\n",
    "mini=np.Inf\n",
    "xo=0\n",
    "for i,j in zip(fx,T):\n",
    "    if i<mini:\n",
    "        mini=i\n",
    "        xo=j\n",
    "print(mini,xo)        "
   ]
  },
  {
   "cell_type": "code",
   "execution_count": null,
   "id": "01ae7fa0-7740-40d9-9a67-ee38153f2f53",
   "metadata": {},
   "outputs": [],
   "source": []
  }
 ],
 "metadata": {
  "kernelspec": {
   "display_name": "Python 3 (ipykernel)",
   "language": "python",
   "name": "python3"
  },
  "language_info": {
   "codemirror_mode": {
    "name": "ipython",
    "version": 3
   },
   "file_extension": ".py",
   "mimetype": "text/x-python",
   "name": "python",
   "nbconvert_exporter": "python",
   "pygments_lexer": "ipython3",
   "version": "3.8.8"
  }
 },
 "nbformat": 4,
 "nbformat_minor": 5
}
