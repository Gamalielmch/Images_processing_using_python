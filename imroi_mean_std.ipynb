{
 "cells": [
  {
   "cell_type": "code",
   "execution_count": 6,
   "id": "ec09527c-51fd-486e-9159-0f3817bab136",
   "metadata": {},
   "outputs": [],
   "source": [
    "import numpy as np\n",
    "import cv2\n",
    "I = cv2.imread('im25.jpg')\n",
    "I = cv2.cvtColor(I, cv2.COLOR_BGR2GRAY)\n",
    "K=6\n",
    "medias = np.zeros((K,1))\n",
    "std = np.zeros((K,1))\n",
    "for i in range(K):\n",
    "    cv2.namedWindow('ROI') \n",
    "# define area by mouse\n",
    "    r=cv2.selectROI('ROI', I,False,False)\n",
    "    medias[i] = np.mean(I[int(r[1]):int(r[1]+r[3]), int(r[0]):int(r[0]+r[2])])\n",
    "    std[i]= np.std(I[int(r[1]):int(r[1]+r[3]), int(r[0]):int(r[0]+r[2])])\n",
    "    cv2.destroyWindow('ROI')"
   ]
  },
  {
   "cell_type": "code",
   "execution_count": 7,
   "id": "4bf53659-a57d-455e-866b-abb15f9108c5",
   "metadata": {},
   "outputs": [
    {
     "name": "stdout",
     "output_type": "stream",
     "text": [
      "[[133.67201946]\n",
      " [ 94.56051948]\n",
      " [180.29971989]\n",
      " [161.38859726]\n",
      " [ 53.92      ]\n",
      " [ 49.8311828 ]]\n"
     ]
    }
   ],
   "source": [
    "print(medias)"
   ]
  },
  {
   "cell_type": "code",
   "execution_count": null,
   "id": "ae3421aa-6c2d-4665-b051-99ca1cd5f95d",
   "metadata": {},
   "outputs": [],
   "source": []
  }
 ],
 "metadata": {
  "kernelspec": {
   "display_name": "Python 3 (ipykernel)",
   "language": "python",
   "name": "python3"
  },
  "language_info": {
   "codemirror_mode": {
    "name": "ipython",
    "version": 3
   },
   "file_extension": ".py",
   "mimetype": "text/x-python",
   "name": "python",
   "nbconvert_exporter": "python",
   "pygments_lexer": "ipython3",
   "version": "3.8.8"
  }
 },
 "nbformat": 4,
 "nbformat_minor": 5
}
